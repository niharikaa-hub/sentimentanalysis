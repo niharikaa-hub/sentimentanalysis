{
  "nbformat": 4,
  "nbformat_minor": 0,
  "metadata": {
    "colab": {
      "provenance": []
    },
    "kernelspec": {
      "name": "python3",
      "display_name": "Python 3"
    },
    "language_info": {
      "name": "python"
    }
  },
  "cells": [
    {
      "cell_type": "markdown",
      "source": [
        "## **Lab 10**"
      ],
      "metadata": {
        "id": "bWg67fO8ht87"
      }
    },
    {
      "cell_type": "markdown",
      "source": [
        "Assuming a set of documents that need to be classified, use the naïve Bayesian Classifier\n",
        "model to perform this task. Built-in Java classes/API can be used to write the program.\n",
        "Calculate theaccuracy, precision, and recall for your data set"
      ],
      "metadata": {
        "id": "VC2yvaaAhzwE"
      }
    },
    {
      "cell_type": "markdown",
      "source": [
        "## Description\n",
        "\n",
        "In a nutshell, this program is about building a text classification model using the Naive Bayes algorithm. It aims to classify text messages into two categories, typically \"positive\" and \"negative\" sentiment, based on the words present in the messages.\n",
        "\n",
        "Here's a more detailed breakdown:\n",
        "\n",
        "**Data Preparation**: The program starts by loading a dataset of text messages and their corresponding labels (positive or negative). It then preprocesses the data by converting the text labels into numerical representations (0 for negative, 1 for positive) and splitting the data into training and testing sets.\n",
        "\n",
        "**Feature Extraction**: To enable the machine learning algorithm to work with the text data, the program uses a technique called \"CountVectorizer.\" This technique converts the text messages into numerical vectors, where each element represents the frequency of a particular word in the message. This numerical representation is known as a document-term matrix.\n",
        "\n",
        "**Model Training**: The core of the program is the training of a Naive Bayes classifier. This classifier learns the relationship between the numerical features (word frequencies) and the labels (positive or negative) from the training data.\n",
        "\n",
        "**Prediction and Evaluation**: Once the model is trained, it is used to predict the labels of the text messages in the testing set. The program then evaluates the performance of the model by comparing its predictions with the true labels, using metrics like accuracy, precision, and recall.\n",
        "\n",
        "**Inference and Purpose**:\n",
        "\n",
        "The main purpose of this program is to build a model that can automatically classify new, unseen text messages into positive or negative sentiment categories. By analyzing the words present in a message, the model infers the sentiment expressed by the author.\n",
        "\n",
        "**Here's what the program infers:**\n",
        "\n",
        "Sentiment Classification: Given a new text message, the program uses the trained Naive Bayes model to predict whether the sentiment expressed in the message is positive or negative.\n",
        "Word Importance: The CountVectorizer used in the program implicitly identifies words that are more indicative of positive or negative sentiment. These words have higher weights in the model's decision-making process.\n",
        "Applications:\n",
        "\n",
        "This type of text classification program has various applications, including:\n",
        "\n",
        "Sentiment Analysis: Analyzing customer reviews, social media posts, and other textual data to understand public opinion about products, services, or brands.\n",
        "Spam Detection: Identifying spam emails or messages based on the language used.\n",
        "Topic Classification: Categorizing news articles or documents into different topics.\n",
        "In essence, this program demonstrates a fundamental machine learning task of text classification using the Naive Bayes algorithm. It provides a basic framework for building models that can automatically infer meaning and sentiment from textual data."
      ],
      "metadata": {
        "id": "uwSiTdLPlcNY"
      }
    },
    {
      "cell_type": "code",
      "source": [
        "import pandas as pd\n",
        "msg=pd.read_csv('/content/sample_data/document.csv',names=['message','label'])\n",
        "print('The dimensions of the dataset',msg.shape)\n",
        "msg['labelnum']=msg.label.map({'pos':1,'neg':0})\n",
        "X=msg.message\n",
        "y=msg.labelnum\n",
        "print(X)\n",
        "print(y)\n",
        "\n",
        "#splitting the dataset into train and test data\n",
        "from sklearn.model_selection import train_test_split\n",
        "xtrain,xtest,ytrain,ytest=train_test_split(X,y)\n",
        "print ('\\n The total number of Training Data :',ytrain.shape)\n",
        "print ('\\n The total number of Test Data :',ytest.shape)\n",
        "#output of count vectoriser is a sparse matrix\n",
        "\n",
        "from sklearn.feature_extraction.text import CountVectorizer\n",
        "count_vect = CountVectorizer()\n",
        "xtrain_dtm = count_vect.fit_transform(xtrain)\n",
        "xtest_dtm=count_vect.transform(xtest)\n",
        "print('\\n The words or Tokens in the text documents \\n')\n",
        "# Use get_feature_names_out() instead of get_feature_names()\n",
        "print(count_vect.get_feature_names_out())\n",
        "# Use get_feature_names_out() instead of get_feature_names()\n",
        "df=pd.DataFrame(xtrain_dtm.toarray(),columns=count_vect.get_feature_names_out())\n",
        "# Training Naive Bayes (NB) classifier on training data.\n",
        "from sklearn.naive_bayes import MultinomialNB\n",
        "clf = MultinomialNB().fit(xtrain_dtm,ytrain)\n",
        "predicted = clf.predict(xtest_dtm)\n",
        "#printing accuracy, Confusion matrix, Precision and Recall\n",
        "from sklearn import metrics\n",
        "print('\\n Accuracy of the classifer is',metrics.accuracy_score(ytest,predicted))\n",
        "print('\\n Confusion matrix')\n",
        "print(metrics.confusion_matrix(ytest,predicted))\n",
        "print('\\n The value of Precision' ,\n",
        "metrics.precision_score(ytest,predicted))\n",
        "print('\\n The value of Recall' ,\n",
        "metrics.recall_score(ytest,predicted))"
      ],
      "metadata": {
        "colab": {
          "base_uri": "https://localhost:8080/"
        },
        "id": "UnIri7xXjDK-",
        "outputId": "e3ea9002-6454-4363-c535-a08ad597e5b7"
      },
      "execution_count": 22,
      "outputs": [
        {
          "output_type": "stream",
          "name": "stdout",
          "text": [
            "The dimensions of the dataset (18, 2)\n",
            "0                      I love this sandwich\n",
            "1                  This is an amazing place\n",
            "2        I feel very good about these beers\n",
            "3                      This is my best work\n",
            "4                      What an awesome view\n",
            "5             I do not like this restaurant\n",
            "6                  I am tired of this stuff\n",
            "7                    I can't deal with this\n",
            "8                      He is my sworn enemy\n",
            "9                       My boss is horrible\n",
            "10                 This is an awesome place\n",
            "11    I do not like the taste of this juice\n",
            "12                          I love to dance\n",
            "13        I am sick and tired of this place\n",
            "14                     What a great holiday\n",
            "15           That is a bad locality to stay\n",
            "16           We will have good fun tomorrow\n",
            "17         I went to my enemy's house today\n",
            "Name: message, dtype: object\n",
            "0     1\n",
            "1     1\n",
            "2     1\n",
            "3     1\n",
            "4     1\n",
            "5     0\n",
            "6     0\n",
            "7     0\n",
            "8     0\n",
            "9     0\n",
            "10    1\n",
            "11    0\n",
            "12    1\n",
            "13    0\n",
            "14    1\n",
            "15    0\n",
            "16    1\n",
            "17    0\n",
            "Name: labelnum, dtype: int64\n",
            "\n",
            " The total number of Training Data : (13,)\n",
            "\n",
            " The total number of Test Data : (5,)\n",
            "\n",
            " The words or Tokens in the text documents \n",
            "\n",
            "['am' 'amazing' 'an' 'and' 'awesome' 'bad' 'boss' 'can' 'dance' 'deal'\n",
            " 'do' 'enemy' 'great' 'he' 'holiday' 'horrible' 'house' 'is' 'like'\n",
            " 'locality' 'love' 'my' 'not' 'of' 'place' 'restaurant' 'sandwich' 'sick'\n",
            " 'stay' 'stuff' 'sworn' 'that' 'this' 'tired' 'to' 'today' 'went' 'what'\n",
            " 'with']\n",
            "\n",
            " Accuracy of the classifer is 0.4\n",
            "\n",
            " Confusion matrix\n",
            "[[1 0]\n",
            " [3 1]]\n",
            "\n",
            " The value of Precision 1.0\n",
            "\n",
            " The value of Recall 0.25\n"
          ]
        }
      ]
    }
  ]
}